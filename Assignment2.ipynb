{
  "nbformat": 4,
  "nbformat_minor": 0,
  "metadata": {
    "colab": {
      "provenance": [],
      "authorship_tag": "ABX9TyOgwFn24HNlfHUAxrkGXC8a",
      "include_colab_link": true
    },
    "kernelspec": {
      "name": "python3",
      "display_name": "Python 3"
    },
    "language_info": {
      "name": "python"
    }
  },
  "cells": [
    {
      "cell_type": "markdown",
      "metadata": {
        "id": "view-in-github",
        "colab_type": "text"
      },
      "source": [
        "<a href=\"https://colab.research.google.com/github/pavithhraaa/assignment/blob/main/Assignment2.ipynb\" target=\"_parent\"><img src=\"https://colab.research.google.com/assets/colab-badge.svg\" alt=\"Open In Colab\"/></a>"
      ]
    },
    {
      "cell_type": "code",
      "execution_count": 9,
      "metadata": {
        "id": "qkIWmywNxAa4"
      },
      "outputs": [],
      "source": [
        "import pandas as pd\n",
        "\n",
        "\n",
        "df = pd.read_csv('/content/archive.zip')\n"
      ]
    },
    {
      "cell_type": "code",
      "source": [
        "filtered_df = df[df['Age'] >= 16]\n"
      ],
      "metadata": {
        "id": "GMLfJcdJx_kU"
      },
      "execution_count": 10,
      "outputs": []
    },
    {
      "cell_type": "code",
      "source": [
        "\n",
        "df_dropped = df.dropna()\n"
      ],
      "metadata": {
        "id": "89iaDU6Xyuua"
      },
      "execution_count": 12,
      "outputs": []
    },
    {
      "cell_type": "code",
      "source": [
        "# Fill missing values with a specific value (e.g., 0)\n",
        "df_filled = df.fillna(0)\n",
        "\n",
        "# Alternatively, fill with the mean of the column\n",
        "df_filled_mean = df.fillna(df.mean())\n"
      ],
      "metadata": {
        "id": "hrLTeHHEzBFg"
      },
      "execution_count": 13,
      "outputs": []
    },
    {
      "cell_type": "code",
      "source": [
        "summary_stats = df.describe()\n",
        "print(summary_stats)\n"
      ],
      "metadata": {
        "colab": {
          "base_uri": "https://localhost:8080/"
        },
        "id": "cyJ0TGOZzDXl",
        "outputId": "f7a6582a-6cc6-4bd5-ef95-8f723f95c487"
      },
      "execution_count": 14,
      "outputs": [
        {
          "output_type": "stream",
          "name": "stdout",
          "text": [
            "         StudentID          Age       Gender    Ethnicity  ParentalEducation  \\\n",
            "count  2392.000000  2392.000000  2392.000000  2392.000000        2392.000000   \n",
            "mean   2196.500000    16.468645     0.510870     0.877508           1.746237   \n",
            "std     690.655244     1.123798     0.499986     1.028476           1.000411   \n",
            "min    1001.000000    15.000000     0.000000     0.000000           0.000000   \n",
            "25%    1598.750000    15.000000     0.000000     0.000000           1.000000   \n",
            "50%    2196.500000    16.000000     1.000000     0.000000           2.000000   \n",
            "75%    2794.250000    17.000000     1.000000     2.000000           2.000000   \n",
            "max    3392.000000    18.000000     1.000000     3.000000           4.000000   \n",
            "\n",
            "       StudyTimeWeekly     Absences     Tutoring  ParentalSupport  \\\n",
            "count      2392.000000  2392.000000  2392.000000      2392.000000   \n",
            "mean          9.771992    14.541388     0.301421         2.122074   \n",
            "std           5.652774     8.467417     0.458971         1.122813   \n",
            "min           0.001057     0.000000     0.000000         0.000000   \n",
            "25%           5.043079     7.000000     0.000000         1.000000   \n",
            "50%           9.705363    15.000000     0.000000         2.000000   \n",
            "75%          14.408410    22.000000     1.000000         3.000000   \n",
            "max          19.978094    29.000000     1.000000         4.000000   \n",
            "\n",
            "       Extracurricular       Sports        Music  Volunteering          GPA  \\\n",
            "count      2392.000000  2392.000000  2392.000000   2392.000000  2392.000000   \n",
            "mean          0.383361     0.303512     0.196906      0.157191     1.906186   \n",
            "std           0.486307     0.459870     0.397744      0.364057     0.915156   \n",
            "min           0.000000     0.000000     0.000000      0.000000     0.000000   \n",
            "25%           0.000000     0.000000     0.000000      0.000000     1.174803   \n",
            "50%           0.000000     0.000000     0.000000      0.000000     1.893393   \n",
            "75%           1.000000     1.000000     0.000000      0.000000     2.622216   \n",
            "max           1.000000     1.000000     1.000000      1.000000     4.000000   \n",
            "\n",
            "        GradeClass  \n",
            "count  2392.000000  \n",
            "mean      2.983696  \n",
            "std       1.233908  \n",
            "min       0.000000  \n",
            "25%       2.000000  \n",
            "50%       4.000000  \n",
            "75%       4.000000  \n",
            "max       4.000000  \n"
          ]
        }
      ]
    },
    {
      "cell_type": "code",
      "source": [
        "mean_age = df['Age'].mean()\n",
        "median_age = df['Age'].median()\n",
        "std_age = df['Age'].std()\n",
        "print(mean_age)\n",
        "print(median_age)\n",
        "print(std_age)"
      ],
      "metadata": {
        "colab": {
          "base_uri": "https://localhost:8080/"
        },
        "id": "425ElXAwzHzH",
        "outputId": "b1594076-d8fb-4233-8edf-5aab008ba46a"
      },
      "execution_count": 17,
      "outputs": [
        {
          "output_type": "stream",
          "name": "stdout",
          "text": [
            "16.468645484949832\n",
            "16.0\n",
            "1.1237983798555553\n"
          ]
        }
      ]
    }
  ]
}