{
  "nbformat": 4,
  "nbformat_minor": 0,
  "metadata": {
    "colab": {
      "provenance": [],
      "authorship_tag": "ABX9TyNM8CsBb8u3s1171h7kP/rO",
      "include_colab_link": true
    },
    "kernelspec": {
      "name": "python3",
      "display_name": "Python 3"
    },
    "language_info": {
      "name": "python"
    }
  },
  "cells": [
    {
      "cell_type": "markdown",
      "metadata": {
        "id": "view-in-github",
        "colab_type": "text"
      },
      "source": [
        "<a href=\"https://colab.research.google.com/github/pavithhraaa/assignment/blob/main/Assignment5.ipynb\" target=\"_parent\"><img src=\"https://colab.research.google.com/assets/colab-badge.svg\" alt=\"Open In Colab\"/></a>"
      ]
    },
    {
      "cell_type": "code",
      "execution_count": 1,
      "metadata": {
        "colab": {
          "base_uri": "https://localhost:8080/"
        },
        "id": "-58CQKHmWBVC",
        "outputId": "d9a63b06-717e-46f6-cf32-fe09ef0f8dfc"
      },
      "outputs": [
        {
          "output_type": "stream",
          "name": "stdout",
          "text": [
            "Requirement already satisfied: numpy in /usr/local/lib/python3.10/dist-packages (1.25.2)\n",
            "Requirement already satisfied: pandas in /usr/local/lib/python3.10/dist-packages (2.0.3)\n",
            "Requirement already satisfied: scikit-learn in /usr/local/lib/python3.10/dist-packages (1.2.2)\n",
            "Requirement already satisfied: python-dateutil>=2.8.2 in /usr/local/lib/python3.10/dist-packages (from pandas) (2.8.2)\n",
            "Requirement already satisfied: pytz>=2020.1 in /usr/local/lib/python3.10/dist-packages (from pandas) (2023.4)\n",
            "Requirement already satisfied: tzdata>=2022.1 in /usr/local/lib/python3.10/dist-packages (from pandas) (2024.1)\n",
            "Requirement already satisfied: scipy>=1.3.2 in /usr/local/lib/python3.10/dist-packages (from scikit-learn) (1.11.4)\n",
            "Requirement already satisfied: joblib>=1.1.1 in /usr/local/lib/python3.10/dist-packages (from scikit-learn) (1.4.2)\n",
            "Requirement already satisfied: threadpoolctl>=2.0.0 in /usr/local/lib/python3.10/dist-packages (from scikit-learn) (3.5.0)\n",
            "Requirement already satisfied: six>=1.5 in /usr/local/lib/python3.10/dist-packages (from python-dateutil>=2.8.2->pandas) (1.16.0)\n"
          ]
        }
      ],
      "source": [
        "pip install numpy pandas scikit-learn\n"
      ]
    },
    {
      "cell_type": "code",
      "source": [
        "import numpy as np\n",
        "import pandas as pd\n",
        "from sklearn.datasets import load_iris\n",
        "from sklearn.decomposition import PCA\n",
        "from sklearn.ensemble import RandomForestClassifier\n",
        "from sklearn.feature_selection import SelectFromModel\n",
        "\n",
        "\n",
        "data = load_iris()\n",
        "X = pd.DataFrame(data.data, columns=data.feature_names)\n",
        "y = pd.Series(data.target)\n",
        "\n",
        "print(\"Original Data:\")\n",
        "print(X.head())\n",
        "\n",
        "\n",
        "X['sepal length to width ratio'] = X['sepal length (cm)'] / X['sepal width (cm)']\n",
        "X['petal length to width ratio'] = X['petal length (cm)'] / X['petal width (cm)']\n",
        "\n",
        "\n",
        "print(\"\\nData with Engineered Features:\")\n",
        "print(X.head())\n",
        "\n",
        "\n",
        "pca = PCA(n_components=2)\n",
        "X_pca = pca.fit_transform(X)\n",
        "print(\"\\nPCA Components:\")\n",
        "print(X_pca[:5])\n",
        "\n",
        "\n",
        "clf = RandomForestClassifier(n_estimators=100, random_state=42)\n",
        "clf.fit(X, y)\n",
        "\n",
        "\n",
        "importances = clf.feature_importances_\n",
        "feature_names = X.columns\n",
        "feature_importances = pd.DataFrame({'feature': feature_names, 'importance': importances})\n",
        "feature_importances = feature_importances.sort_values(by='importance', ascending=False)\n",
        "\n",
        "\n",
        "print(\"\\nFeature Importances:\")\n",
        "print(feature_importances)\n",
        "\n",
        "\n",
        "selector = SelectFromModel(clf, threshold='median')\n",
        "X_important = selector.fit_transform(X, y)\n",
        "selected_features = X.columns[selector.get_support()]\n",
        "\n",
        "\n",
        "print(\"\\nSelected Features:\")\n",
        "print(selected_features)\n",
        "\n",
        "\n",
        "print(\"\\nOptimized Feature Set Data:\")\n",
        "print(pd.DataFrame(X_important).head())\n"
      ],
      "metadata": {
        "colab": {
          "base_uri": "https://localhost:8080/"
        },
        "id": "9vt4y3DgWI_R",
        "outputId": "1e1364f3-630d-4d60-d737-ca3a73162d5e"
      },
      "execution_count": 3,
      "outputs": [
        {
          "output_type": "stream",
          "name": "stdout",
          "text": [
            "Original Data:\n",
            "   sepal length (cm)  sepal width (cm)  petal length (cm)  petal width (cm)\n",
            "0                5.1               3.5                1.4               0.2\n",
            "1                4.9               3.0                1.4               0.2\n",
            "2                4.7               3.2                1.3               0.2\n",
            "3                4.6               3.1                1.5               0.2\n",
            "4                5.0               3.6                1.4               0.2\n",
            "\n",
            "Data with Engineered Features:\n",
            "   sepal length (cm)  sepal width (cm)  petal length (cm)  petal width (cm)  \\\n",
            "0                5.1               3.5                1.4               0.2   \n",
            "1                4.9               3.0                1.4               0.2   \n",
            "2                4.7               3.2                1.3               0.2   \n",
            "3                4.6               3.1                1.5               0.2   \n",
            "4                5.0               3.6                1.4               0.2   \n",
            "\n",
            "   sepal length to width ratio  petal length to width ratio  \n",
            "0                     1.457143                          7.0  \n",
            "1                     1.633333                          7.0  \n",
            "2                     1.468750                          6.5  \n",
            "3                     1.483871                          7.5  \n",
            "4                     1.388889                          7.0  \n",
            "\n",
            "PCA Components:\n",
            "[[ 3.80267107 -0.48419299]\n",
            " [ 3.79621231 -0.51752673]\n",
            " [ 3.52360444 -0.98210683]\n",
            " [ 4.22264392 -0.26739508]\n",
            " [ 3.83640348 -0.52878726]]\n",
            "\n",
            "Feature Importances:\n",
            "                       feature  importance\n",
            "3             petal width (cm)    0.349902\n",
            "2            petal length (cm)    0.306647\n",
            "4  sepal length to width ratio    0.127668\n",
            "5  petal length to width ratio    0.103289\n",
            "0            sepal length (cm)    0.089989\n",
            "1             sepal width (cm)    0.022505\n",
            "\n",
            "Selected Features:\n",
            "Index(['petal length (cm)', 'petal width (cm)', 'sepal length to width ratio'], dtype='object')\n",
            "\n",
            "Optimized Feature Set Data:\n",
            "     0    1         2\n",
            "0  1.4  0.2  1.457143\n",
            "1  1.4  0.2  1.633333\n",
            "2  1.3  0.2  1.468750\n",
            "3  1.5  0.2  1.483871\n",
            "4  1.4  0.2  1.388889\n"
          ]
        }
      ]
    },
    {
      "cell_type": "code",
      "source": [],
      "metadata": {
        "id": "DgFP7Qr2YCex"
      },
      "execution_count": null,
      "outputs": []
    }
  ]
}