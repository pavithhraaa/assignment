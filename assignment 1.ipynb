{
  "nbformat": 4,
  "nbformat_minor": 0,
  "metadata": {
    "colab": {
      "provenance": []
    },
    "kernelspec": {
      "name": "python3",
      "display_name": "Python 3"
    },
    "language_info": {
      "name": "python"
    }
  },
  "cells": [
    {
      "cell_type": "code",
      "execution_count": 1,
      "metadata": {
        "colab": {
          "base_uri": "https://localhost:8080/",
          "height": 0
        },
        "id": "BgIRK3A6k6sC",
        "outputId": "e0b23e32-4ed1-49ed-e285-3c4afb9d31c7"
      },
      "outputs": [
        {
          "output_type": "stream",
          "name": "stdout",
          "text": [
            "List after adding element: [1, 2, 3, 4, 5, 6]\n",
            "List after removing element: [1, 2, 4, 5, 6]\n",
            "List after modifying element: [10, 2, 4, 5, 6]\n",
            "Dictionary after adding element: {'a': 1, 'b': 2, 'c': 3, 'd': 4}\n",
            "Dictionary after removing element: {'a': 1, 'c': 3, 'd': 4}\n",
            "Dictionary after modifying element: {'a': 100, 'c': 3, 'd': 4}\n",
            "Set after adding element: {1, 2, 3, 4, 5, 6}\n",
            "Set after removing element: {1, 2, 4, 5, 6}\n"
          ]
        }
      ],
      "source": [
        "# Creating a list\n",
        "my_list = [1, 2, 3, 4, 5]\n",
        "\n",
        "# Adding elements to the list\n",
        "my_list.append(6)\n",
        "print(\"List after adding element:\", my_list)\n",
        "\n",
        "# Removing elements from the list\n",
        "my_list.remove(3)\n",
        "print(\"List after removing element:\", my_list)\n",
        "\n",
        "# Modifying elements in the list\n",
        "my_list[0] = 10\n",
        "print(\"List after modifying element:\", my_list)\n",
        "\n",
        "# Creating a dictionary\n",
        "my_dict = {'a': 1, 'b': 2, 'c': 3}\n",
        "\n",
        "# Adding elements to the dictionary\n",
        "my_dict['d'] = 4\n",
        "print(\"Dictionary after adding element:\", my_dict)\n",
        "\n",
        "# Removing elements from the dictionary\n",
        "del my_dict['b']\n",
        "print(\"Dictionary after removing element:\", my_dict)\n",
        "\n",
        "# Modifying elements in the dictionary\n",
        "my_dict['a'] = 100\n",
        "print(\"Dictionary after modifying element:\", my_dict)\n",
        "\n",
        "# Creating a set\n",
        "my_set = {1, 2, 3, 4, 5}\n",
        "\n",
        "# Adding elements to the set\n",
        "my_set.add(6)\n",
        "print(\"Set after adding element:\", my_set)\n",
        "\n",
        "# Removing elements from the set\n",
        "my_set.remove(3)\n",
        "print(\"Set after removing element:\", my_set)"
      ]
    }
  ]
}